{
 "cells": [
  {
   "cell_type": "markdown",
   "id": "01410763-2523-427a-adbb-4606669e47f3",
   "metadata": {},
   "source": [
    "### Essential Imports"
   ]
  },
  {
   "cell_type": "code",
   "execution_count": 1,
   "id": "6ce6156d-4218-4cca-8b71-27558849c197",
   "metadata": {},
   "outputs": [],
   "source": [
    "import numpy as np \n",
    "import pandas as pd \n",
    "import seaborn as sns\n",
    "import matplotlib.pyplot as plt\n",
    "from sklearn.model_selection import train_test_split\n",
    "from sklearn.preprocessing import StandardScaler\n",
    "from sklearn.metrics import r2_score,mean_absolute_error"
   ]
  },
  {
   "cell_type": "code",
   "execution_count": 2,
   "id": "65519a16-a328-4a80-be27-55043a153100",
   "metadata": {},
   "outputs": [],
   "source": [
    "data = pd.read_csv('adult.csv')"
   ]
  },
  {
   "cell_type": "code",
   "execution_count": 3,
   "id": "3c9c44fb-9f8c-47d8-99e7-53e13f9c2f7c",
   "metadata": {},
   "outputs": [],
   "source": [
    "df = pd.DataFrame(data)"
   ]
  },
  {
   "cell_type": "code",
   "execution_count": 4,
   "id": "69fb4bb4-1fbc-4e28-92cf-17cf901e7277",
   "metadata": {},
   "outputs": [
    {
     "data": {
      "text/html": [
       "<div>\n",
       "<style scoped>\n",
       "    .dataframe tbody tr th:only-of-type {\n",
       "        vertical-align: middle;\n",
       "    }\n",
       "\n",
       "    .dataframe tbody tr th {\n",
       "        vertical-align: top;\n",
       "    }\n",
       "\n",
       "    .dataframe thead th {\n",
       "        text-align: right;\n",
       "    }\n",
       "</style>\n",
       "<table border=\"1\" class=\"dataframe\">\n",
       "  <thead>\n",
       "    <tr style=\"text-align: right;\">\n",
       "      <th></th>\n",
       "      <th>age</th>\n",
       "      <th>workclass</th>\n",
       "      <th>fnlwgt</th>\n",
       "      <th>education</th>\n",
       "      <th>education.num</th>\n",
       "      <th>marital.status</th>\n",
       "      <th>occupation</th>\n",
       "      <th>relationship</th>\n",
       "      <th>race</th>\n",
       "      <th>sex</th>\n",
       "      <th>capital.gain</th>\n",
       "      <th>capital.loss</th>\n",
       "      <th>hours.per.week</th>\n",
       "      <th>native.country</th>\n",
       "      <th>income</th>\n",
       "    </tr>\n",
       "  </thead>\n",
       "  <tbody>\n",
       "    <tr>\n",
       "      <th>0</th>\n",
       "      <td>90</td>\n",
       "      <td>?</td>\n",
       "      <td>77053</td>\n",
       "      <td>HS-grad</td>\n",
       "      <td>9</td>\n",
       "      <td>Widowed</td>\n",
       "      <td>?</td>\n",
       "      <td>Not-in-family</td>\n",
       "      <td>White</td>\n",
       "      <td>Female</td>\n",
       "      <td>0</td>\n",
       "      <td>4356</td>\n",
       "      <td>40</td>\n",
       "      <td>United-States</td>\n",
       "      <td>&lt;=50K</td>\n",
       "    </tr>\n",
       "    <tr>\n",
       "      <th>1</th>\n",
       "      <td>82</td>\n",
       "      <td>Private</td>\n",
       "      <td>132870</td>\n",
       "      <td>HS-grad</td>\n",
       "      <td>9</td>\n",
       "      <td>Widowed</td>\n",
       "      <td>Exec-managerial</td>\n",
       "      <td>Not-in-family</td>\n",
       "      <td>White</td>\n",
       "      <td>Female</td>\n",
       "      <td>0</td>\n",
       "      <td>4356</td>\n",
       "      <td>18</td>\n",
       "      <td>United-States</td>\n",
       "      <td>&lt;=50K</td>\n",
       "    </tr>\n",
       "    <tr>\n",
       "      <th>2</th>\n",
       "      <td>66</td>\n",
       "      <td>?</td>\n",
       "      <td>186061</td>\n",
       "      <td>Some-college</td>\n",
       "      <td>10</td>\n",
       "      <td>Widowed</td>\n",
       "      <td>?</td>\n",
       "      <td>Unmarried</td>\n",
       "      <td>Black</td>\n",
       "      <td>Female</td>\n",
       "      <td>0</td>\n",
       "      <td>4356</td>\n",
       "      <td>40</td>\n",
       "      <td>United-States</td>\n",
       "      <td>&lt;=50K</td>\n",
       "    </tr>\n",
       "    <tr>\n",
       "      <th>3</th>\n",
       "      <td>54</td>\n",
       "      <td>Private</td>\n",
       "      <td>140359</td>\n",
       "      <td>7th-8th</td>\n",
       "      <td>4</td>\n",
       "      <td>Divorced</td>\n",
       "      <td>Machine-op-inspct</td>\n",
       "      <td>Unmarried</td>\n",
       "      <td>White</td>\n",
       "      <td>Female</td>\n",
       "      <td>0</td>\n",
       "      <td>3900</td>\n",
       "      <td>40</td>\n",
       "      <td>United-States</td>\n",
       "      <td>&lt;=50K</td>\n",
       "    </tr>\n",
       "    <tr>\n",
       "      <th>4</th>\n",
       "      <td>41</td>\n",
       "      <td>Private</td>\n",
       "      <td>264663</td>\n",
       "      <td>Some-college</td>\n",
       "      <td>10</td>\n",
       "      <td>Separated</td>\n",
       "      <td>Prof-specialty</td>\n",
       "      <td>Own-child</td>\n",
       "      <td>White</td>\n",
       "      <td>Female</td>\n",
       "      <td>0</td>\n",
       "      <td>3900</td>\n",
       "      <td>40</td>\n",
       "      <td>United-States</td>\n",
       "      <td>&lt;=50K</td>\n",
       "    </tr>\n",
       "  </tbody>\n",
       "</table>\n",
       "</div>"
      ],
      "text/plain": [
       "   age workclass  fnlwgt     education  education.num marital.status  \\\n",
       "0   90         ?   77053       HS-grad              9        Widowed   \n",
       "1   82   Private  132870       HS-grad              9        Widowed   \n",
       "2   66         ?  186061  Some-college             10        Widowed   \n",
       "3   54   Private  140359       7th-8th              4       Divorced   \n",
       "4   41   Private  264663  Some-college             10      Separated   \n",
       "\n",
       "          occupation   relationship   race     sex  capital.gain  \\\n",
       "0                  ?  Not-in-family  White  Female             0   \n",
       "1    Exec-managerial  Not-in-family  White  Female             0   \n",
       "2                  ?      Unmarried  Black  Female             0   \n",
       "3  Machine-op-inspct      Unmarried  White  Female             0   \n",
       "4     Prof-specialty      Own-child  White  Female             0   \n",
       "\n",
       "   capital.loss  hours.per.week native.country income  \n",
       "0          4356              40  United-States  <=50K  \n",
       "1          4356              18  United-States  <=50K  \n",
       "2          4356              40  United-States  <=50K  \n",
       "3          3900              40  United-States  <=50K  \n",
       "4          3900              40  United-States  <=50K  "
      ]
     },
     "execution_count": 4,
     "metadata": {},
     "output_type": "execute_result"
    }
   ],
   "source": [
    "df.head()"
   ]
  },
  {
   "cell_type": "code",
   "execution_count": 5,
   "id": "9d63b1e4-18f9-4d38-9964-a43409d49f95",
   "metadata": {},
   "outputs": [],
   "source": [
    "df[df == '?'] = np.nan"
   ]
  },
  {
   "cell_type": "code",
   "execution_count": 6,
   "id": "cb2ae11d-2a52-4014-adec-970812c5397e",
   "metadata": {},
   "outputs": [
    {
     "name": "stdout",
     "output_type": "stream",
     "text": [
      "<class 'pandas.core.frame.DataFrame'>\n",
      "RangeIndex: 32561 entries, 0 to 32560\n",
      "Data columns (total 15 columns):\n",
      " #   Column          Non-Null Count  Dtype \n",
      "---  ------          --------------  ----- \n",
      " 0   age             32561 non-null  int64 \n",
      " 1   workclass       30725 non-null  object\n",
      " 2   fnlwgt          32561 non-null  int64 \n",
      " 3   education       32561 non-null  object\n",
      " 4   education.num   32561 non-null  int64 \n",
      " 5   marital.status  32561 non-null  object\n",
      " 6   occupation      30718 non-null  object\n",
      " 7   relationship    32561 non-null  object\n",
      " 8   race            32561 non-null  object\n",
      " 9   sex             32561 non-null  object\n",
      " 10  capital.gain    32561 non-null  int64 \n",
      " 11  capital.loss    32561 non-null  int64 \n",
      " 12  hours.per.week  32561 non-null  int64 \n",
      " 13  native.country  31978 non-null  object\n",
      " 14  income          32561 non-null  object\n",
      "dtypes: int64(6), object(9)\n",
      "memory usage: 3.7+ MB\n"
     ]
    }
   ],
   "source": [
    "df.info()"
   ]
  },
  {
   "cell_type": "code",
   "execution_count": 7,
   "id": "95c54865-5bbc-4751-864b-8610bd00391e",
   "metadata": {},
   "outputs": [],
   "source": [
    "for col in ['workclass','occupation','native.country']:\n",
    "    df[col].fillna(df[col].mode()[0],inplace=True)\n",
    "    "
   ]
  },
  {
   "cell_type": "code",
   "execution_count": 8,
   "id": "0abbc256-7540-41e9-8723-527bd0db259b",
   "metadata": {},
   "outputs": [],
   "source": [
    "df['workclass'] = df['workclass'].str.replace('-',' ')"
   ]
  },
  {
   "cell_type": "code",
   "execution_count": 9,
   "id": "6c330ee7-fa6f-450e-8db9-502be0257366",
   "metadata": {},
   "outputs": [
    {
     "data": {
      "text/plain": [
       "education\n",
       "HS-grad         10501\n",
       "Some-college     7291\n",
       "Bachelors        5355\n",
       "Masters          1723\n",
       "Assoc-voc        1382\n",
       "11th             1175\n",
       "Assoc-acdm       1067\n",
       "10th              933\n",
       "7th-8th           646\n",
       "Prof-school       576\n",
       "9th               514\n",
       "12th              433\n",
       "Doctorate         413\n",
       "5th-6th           333\n",
       "1st-4th           168\n",
       "Preschool          51\n",
       "Name: count, dtype: int64"
      ]
     },
     "execution_count": 9,
     "metadata": {},
     "output_type": "execute_result"
    }
   ],
   "source": [
    "df['education'].value_counts()"
   ]
  },
  {
   "cell_type": "code",
   "execution_count": 10,
   "id": "d473e253-f53b-45e0-b5e2-a2d17f0c1659",
   "metadata": {},
   "outputs": [],
   "source": [
    "education_mapping = {\n",
    "    'Preschool': 'Primary Education', '1st-4th': 'Primary Education', '5th-6th': 'Primary Education', '7th-8th': 'Primary Education',\n",
    "    '9th': 'Secondary Education', '10th': 'Secondary Education', '11th': 'Secondary Education', '12th': 'Secondary Education',\n",
    "    'Assoc-voc': 'Associate', 'Assoc-acdm': 'Associate',\n",
    "    'HS-grad': 'Undergraduate', 'Some-college': 'Undergraduate', 'Bachelors': 'Undergraduate',\n",
    "    'Masters': 'Postgraduate', 'Doctorate': 'Postgraduate', 'Prof-school': 'Postgraduate'\n",
    "}\n",
    "df['new_education']= df['education'].replace(education_mapping)"
   ]
  },
  {
   "cell_type": "code",
   "execution_count": 11,
   "id": "b78a2c5e-fece-488c-b288-808165b88531",
   "metadata": {},
   "outputs": [],
   "source": [
    "df = df.drop('education',axis=1)"
   ]
  },
  {
   "cell_type": "code",
   "execution_count": 12,
   "id": "9bb24d8f-7cf1-4061-af5a-1eae938808a0",
   "metadata": {},
   "outputs": [
    {
     "data": {
      "text/plain": [
       "marital.status\n",
       "Married-civ-spouse       14976\n",
       "Never-married            10683\n",
       "Divorced                  4443\n",
       "Separated                 1025\n",
       "Widowed                    993\n",
       "Married-spouse-absent      418\n",
       "Married-AF-spouse           23\n",
       "Name: count, dtype: int64"
      ]
     },
     "execution_count": 12,
     "metadata": {},
     "output_type": "execute_result"
    }
   ],
   "source": [
    "df['marital.status'].value_counts()"
   ]
  },
  {
   "cell_type": "code",
   "execution_count": 13,
   "id": "65e9343c-5b5b-4cff-9237-e842f77cbd52",
   "metadata": {},
   "outputs": [],
   "source": [
    "df['marital.status'] = df['marital.status'].apply(lambda x :'Other' if x in ['Married-spouse-absent','Married-AF-spouse'] else x )"
   ]
  },
  {
   "cell_type": "code",
   "execution_count": 14,
   "id": "dd36f6b1-cfc7-47c8-81bd-242d308d85c0",
   "metadata": {},
   "outputs": [],
   "source": [
    "df['marital.status'] = df['marital.status'].str.replace('-','')"
   ]
  },
  {
   "cell_type": "code",
   "execution_count": 15,
   "id": "749c820e-ac67-4612-be6a-17d8ab4f1b7e",
   "metadata": {},
   "outputs": [
    {
     "data": {
      "text/plain": [
       "marital.status\n",
       "Marriedcivspouse    14976\n",
       "Nevermarried        10683\n",
       "Divorced             4443\n",
       "Separated            1025\n",
       "Widowed               993\n",
       "Other                 441\n",
       "Name: count, dtype: int64"
      ]
     },
     "execution_count": 15,
     "metadata": {},
     "output_type": "execute_result"
    }
   ],
   "source": [
    "df['marital.status'].value_counts()"
   ]
  },
  {
   "cell_type": "code",
   "execution_count": 16,
   "id": "0595898c-72ec-4f98-828f-bdbc632d9ddd",
   "metadata": {},
   "outputs": [
    {
     "data": {
      "text/plain": [
       "occupation\n",
       "Prof-specialty       5983\n",
       "Craft-repair         4099\n",
       "Exec-managerial      4066\n",
       "Adm-clerical         3770\n",
       "Sales                3650\n",
       "Other-service        3295\n",
       "Machine-op-inspct    2002\n",
       "Transport-moving     1597\n",
       "Handlers-cleaners    1370\n",
       "Farming-fishing       994\n",
       "Tech-support          928\n",
       "Protective-serv       649\n",
       "Priv-house-serv       149\n",
       "Armed-Forces            9\n",
       "Name: count, dtype: int64"
      ]
     },
     "execution_count": 16,
     "metadata": {},
     "output_type": "execute_result"
    }
   ],
   "source": [
    "df['occupation'].value_counts()"
   ]
  },
  {
   "cell_type": "code",
   "execution_count": 17,
   "id": "8f5e229d-8c9a-466a-bab8-35bd909b38aa",
   "metadata": {},
   "outputs": [],
   "source": [
    "df['occupation'] = df['occupation'].str.replace('-','')"
   ]
  },
  {
   "cell_type": "code",
   "execution_count": 18,
   "id": "99d6cd5d-bdb7-422c-b28a-c59d9073eb83",
   "metadata": {},
   "outputs": [],
   "source": [
    "df['relationship'] = df['relationship'].str.replace('-','')"
   ]
  },
  {
   "cell_type": "code",
   "execution_count": 19,
   "id": "159fd798-d833-4dc4-ae6b-eb4c236b37e2",
   "metadata": {},
   "outputs": [],
   "source": [
    "df.rename(columns=(lambda x : x.replace('.','_')),inplace=True)"
   ]
  },
  {
   "cell_type": "code",
   "execution_count": 20,
   "id": "021e0d9e-973e-487b-87eb-0b84836dd23b",
   "metadata": {},
   "outputs": [],
   "source": [
    "df.replace({'income': {'<=50K':0}},inplace=True)\n",
    "df.replace({'income': {'>50K':1}},inplace=True)"
   ]
  },
  {
   "cell_type": "code",
   "execution_count": 21,
   "id": "199eb484-e450-4bc6-802e-7c45e53fa75c",
   "metadata": {},
   "outputs": [
    {
     "data": {
      "text/plain": [
       "income\n",
       "0    24720\n",
       "1     7841\n",
       "Name: count, dtype: int64"
      ]
     },
     "execution_count": 21,
     "metadata": {},
     "output_type": "execute_result"
    }
   ],
   "source": [
    "df['income'].value_counts()"
   ]
  },
  {
   "cell_type": "code",
   "execution_count": 22,
   "id": "cc42e50b-0398-4c39-96b5-f23df02ab75f",
   "metadata": {},
   "outputs": [
    {
     "data": {
      "text/html": [
       "<div>\n",
       "<style scoped>\n",
       "    .dataframe tbody tr th:only-of-type {\n",
       "        vertical-align: middle;\n",
       "    }\n",
       "\n",
       "    .dataframe tbody tr th {\n",
       "        vertical-align: top;\n",
       "    }\n",
       "\n",
       "    .dataframe thead th {\n",
       "        text-align: right;\n",
       "    }\n",
       "</style>\n",
       "<table border=\"1\" class=\"dataframe\">\n",
       "  <thead>\n",
       "    <tr style=\"text-align: right;\">\n",
       "      <th></th>\n",
       "      <th>age</th>\n",
       "      <th>workclass</th>\n",
       "      <th>fnlwgt</th>\n",
       "      <th>education_num</th>\n",
       "      <th>marital_status</th>\n",
       "      <th>occupation</th>\n",
       "      <th>relationship</th>\n",
       "      <th>race</th>\n",
       "      <th>sex</th>\n",
       "      <th>capital_gain</th>\n",
       "      <th>capital_loss</th>\n",
       "      <th>hours_per_week</th>\n",
       "      <th>native_country</th>\n",
       "      <th>income</th>\n",
       "      <th>new_education</th>\n",
       "    </tr>\n",
       "  </thead>\n",
       "  <tbody>\n",
       "    <tr>\n",
       "      <th>0</th>\n",
       "      <td>90</td>\n",
       "      <td>Private</td>\n",
       "      <td>77053</td>\n",
       "      <td>9</td>\n",
       "      <td>Widowed</td>\n",
       "      <td>Profspecialty</td>\n",
       "      <td>Notinfamily</td>\n",
       "      <td>White</td>\n",
       "      <td>Female</td>\n",
       "      <td>0</td>\n",
       "      <td>4356</td>\n",
       "      <td>40</td>\n",
       "      <td>United-States</td>\n",
       "      <td>0</td>\n",
       "      <td>Undergraduate</td>\n",
       "    </tr>\n",
       "    <tr>\n",
       "      <th>1</th>\n",
       "      <td>82</td>\n",
       "      <td>Private</td>\n",
       "      <td>132870</td>\n",
       "      <td>9</td>\n",
       "      <td>Widowed</td>\n",
       "      <td>Execmanagerial</td>\n",
       "      <td>Notinfamily</td>\n",
       "      <td>White</td>\n",
       "      <td>Female</td>\n",
       "      <td>0</td>\n",
       "      <td>4356</td>\n",
       "      <td>18</td>\n",
       "      <td>United-States</td>\n",
       "      <td>0</td>\n",
       "      <td>Undergraduate</td>\n",
       "    </tr>\n",
       "    <tr>\n",
       "      <th>2</th>\n",
       "      <td>66</td>\n",
       "      <td>Private</td>\n",
       "      <td>186061</td>\n",
       "      <td>10</td>\n",
       "      <td>Widowed</td>\n",
       "      <td>Profspecialty</td>\n",
       "      <td>Unmarried</td>\n",
       "      <td>Black</td>\n",
       "      <td>Female</td>\n",
       "      <td>0</td>\n",
       "      <td>4356</td>\n",
       "      <td>40</td>\n",
       "      <td>United-States</td>\n",
       "      <td>0</td>\n",
       "      <td>Undergraduate</td>\n",
       "    </tr>\n",
       "    <tr>\n",
       "      <th>3</th>\n",
       "      <td>54</td>\n",
       "      <td>Private</td>\n",
       "      <td>140359</td>\n",
       "      <td>4</td>\n",
       "      <td>Divorced</td>\n",
       "      <td>Machineopinspct</td>\n",
       "      <td>Unmarried</td>\n",
       "      <td>White</td>\n",
       "      <td>Female</td>\n",
       "      <td>0</td>\n",
       "      <td>3900</td>\n",
       "      <td>40</td>\n",
       "      <td>United-States</td>\n",
       "      <td>0</td>\n",
       "      <td>Primary Education</td>\n",
       "    </tr>\n",
       "    <tr>\n",
       "      <th>4</th>\n",
       "      <td>41</td>\n",
       "      <td>Private</td>\n",
       "      <td>264663</td>\n",
       "      <td>10</td>\n",
       "      <td>Separated</td>\n",
       "      <td>Profspecialty</td>\n",
       "      <td>Ownchild</td>\n",
       "      <td>White</td>\n",
       "      <td>Female</td>\n",
       "      <td>0</td>\n",
       "      <td>3900</td>\n",
       "      <td>40</td>\n",
       "      <td>United-States</td>\n",
       "      <td>0</td>\n",
       "      <td>Undergraduate</td>\n",
       "    </tr>\n",
       "  </tbody>\n",
       "</table>\n",
       "</div>"
      ],
      "text/plain": [
       "   age workclass  fnlwgt  education_num marital_status       occupation  \\\n",
       "0   90   Private   77053              9        Widowed    Profspecialty   \n",
       "1   82   Private  132870              9        Widowed   Execmanagerial   \n",
       "2   66   Private  186061             10        Widowed    Profspecialty   \n",
       "3   54   Private  140359              4       Divorced  Machineopinspct   \n",
       "4   41   Private  264663             10      Separated    Profspecialty   \n",
       "\n",
       "  relationship   race     sex  capital_gain  capital_loss  hours_per_week  \\\n",
       "0  Notinfamily  White  Female             0          4356              40   \n",
       "1  Notinfamily  White  Female             0          4356              18   \n",
       "2    Unmarried  Black  Female             0          4356              40   \n",
       "3    Unmarried  White  Female             0          3900              40   \n",
       "4     Ownchild  White  Female             0          3900              40   \n",
       "\n",
       "  native_country  income      new_education  \n",
       "0  United-States       0      Undergraduate  \n",
       "1  United-States       0      Undergraduate  \n",
       "2  United-States       0      Undergraduate  \n",
       "3  United-States       0  Primary Education  \n",
       "4  United-States       0      Undergraduate  "
      ]
     },
     "execution_count": 22,
     "metadata": {},
     "output_type": "execute_result"
    }
   ],
   "source": [
    "df.head()"
   ]
  },
  {
   "cell_type": "code",
   "execution_count": 23,
   "id": "c4933cf9-b4d7-4586-a126-5e3fd6be7598",
   "metadata": {},
   "outputs": [
    {
     "data": {
      "text/html": [
       "<div>\n",
       "<style scoped>\n",
       "    .dataframe tbody tr th:only-of-type {\n",
       "        vertical-align: middle;\n",
       "    }\n",
       "\n",
       "    .dataframe tbody tr th {\n",
       "        vertical-align: top;\n",
       "    }\n",
       "\n",
       "    .dataframe thead th {\n",
       "        text-align: right;\n",
       "    }\n",
       "</style>\n",
       "<table border=\"1\" class=\"dataframe\">\n",
       "  <thead>\n",
       "    <tr style=\"text-align: right;\">\n",
       "      <th></th>\n",
       "      <th>age</th>\n",
       "      <th>fnlwgt</th>\n",
       "      <th>education_num</th>\n",
       "      <th>capital_gain</th>\n",
       "      <th>capital_loss</th>\n",
       "      <th>hours_per_week</th>\n",
       "      <th>income</th>\n",
       "    </tr>\n",
       "  </thead>\n",
       "  <tbody>\n",
       "    <tr>\n",
       "      <th>count</th>\n",
       "      <td>32561.000000</td>\n",
       "      <td>3.256100e+04</td>\n",
       "      <td>32561.000000</td>\n",
       "      <td>32561.000000</td>\n",
       "      <td>32561.000000</td>\n",
       "      <td>32561.000000</td>\n",
       "      <td>32561.000000</td>\n",
       "    </tr>\n",
       "    <tr>\n",
       "      <th>mean</th>\n",
       "      <td>38.581647</td>\n",
       "      <td>1.897784e+05</td>\n",
       "      <td>10.080679</td>\n",
       "      <td>1077.648844</td>\n",
       "      <td>87.303830</td>\n",
       "      <td>40.437456</td>\n",
       "      <td>0.240810</td>\n",
       "    </tr>\n",
       "    <tr>\n",
       "      <th>std</th>\n",
       "      <td>13.640433</td>\n",
       "      <td>1.055500e+05</td>\n",
       "      <td>2.572720</td>\n",
       "      <td>7385.292085</td>\n",
       "      <td>402.960219</td>\n",
       "      <td>12.347429</td>\n",
       "      <td>0.427581</td>\n",
       "    </tr>\n",
       "    <tr>\n",
       "      <th>min</th>\n",
       "      <td>17.000000</td>\n",
       "      <td>1.228500e+04</td>\n",
       "      <td>1.000000</td>\n",
       "      <td>0.000000</td>\n",
       "      <td>0.000000</td>\n",
       "      <td>1.000000</td>\n",
       "      <td>0.000000</td>\n",
       "    </tr>\n",
       "    <tr>\n",
       "      <th>25%</th>\n",
       "      <td>28.000000</td>\n",
       "      <td>1.178270e+05</td>\n",
       "      <td>9.000000</td>\n",
       "      <td>0.000000</td>\n",
       "      <td>0.000000</td>\n",
       "      <td>40.000000</td>\n",
       "      <td>0.000000</td>\n",
       "    </tr>\n",
       "    <tr>\n",
       "      <th>50%</th>\n",
       "      <td>37.000000</td>\n",
       "      <td>1.783560e+05</td>\n",
       "      <td>10.000000</td>\n",
       "      <td>0.000000</td>\n",
       "      <td>0.000000</td>\n",
       "      <td>40.000000</td>\n",
       "      <td>0.000000</td>\n",
       "    </tr>\n",
       "    <tr>\n",
       "      <th>75%</th>\n",
       "      <td>48.000000</td>\n",
       "      <td>2.370510e+05</td>\n",
       "      <td>12.000000</td>\n",
       "      <td>0.000000</td>\n",
       "      <td>0.000000</td>\n",
       "      <td>45.000000</td>\n",
       "      <td>0.000000</td>\n",
       "    </tr>\n",
       "    <tr>\n",
       "      <th>max</th>\n",
       "      <td>90.000000</td>\n",
       "      <td>1.484705e+06</td>\n",
       "      <td>16.000000</td>\n",
       "      <td>99999.000000</td>\n",
       "      <td>4356.000000</td>\n",
       "      <td>99.000000</td>\n",
       "      <td>1.000000</td>\n",
       "    </tr>\n",
       "  </tbody>\n",
       "</table>\n",
       "</div>"
      ],
      "text/plain": [
       "                age        fnlwgt  education_num  capital_gain  capital_loss  \\\n",
       "count  32561.000000  3.256100e+04   32561.000000  32561.000000  32561.000000   \n",
       "mean      38.581647  1.897784e+05      10.080679   1077.648844     87.303830   \n",
       "std       13.640433  1.055500e+05       2.572720   7385.292085    402.960219   \n",
       "min       17.000000  1.228500e+04       1.000000      0.000000      0.000000   \n",
       "25%       28.000000  1.178270e+05       9.000000      0.000000      0.000000   \n",
       "50%       37.000000  1.783560e+05      10.000000      0.000000      0.000000   \n",
       "75%       48.000000  2.370510e+05      12.000000      0.000000      0.000000   \n",
       "max       90.000000  1.484705e+06      16.000000  99999.000000   4356.000000   \n",
       "\n",
       "       hours_per_week        income  \n",
       "count    32561.000000  32561.000000  \n",
       "mean        40.437456      0.240810  \n",
       "std         12.347429      0.427581  \n",
       "min          1.000000      0.000000  \n",
       "25%         40.000000      0.000000  \n",
       "50%         40.000000      0.000000  \n",
       "75%         45.000000      0.000000  \n",
       "max         99.000000      1.000000  "
      ]
     },
     "execution_count": 23,
     "metadata": {},
     "output_type": "execute_result"
    }
   ],
   "source": [
    "df.describe()"
   ]
  },
  {
   "cell_type": "code",
   "execution_count": 24,
   "id": "14eeeadc-7f2c-4a2e-b98d-f14261b7897d",
   "metadata": {},
   "outputs": [
    {
     "data": {
      "text/plain": [
       "<Axes: xlabel='capital_loss', ylabel='Count'>"
      ]
     },
     "execution_count": 24,
     "metadata": {},
     "output_type": "execute_result"
    },
    {
     "data": {
      "image/png": "[encoded data removed]",
      "text/plain": [
       "<Figure size 800x500 with 1 Axes>"
      ]
     },
     "metadata": {},
     "output_type": "display_data"
    },
    {
     "data": {
      "image/png": "[encoded data removed]",
      "text/plain": [
       "<Figure size 800x500 with 1 Axes>"
      ]
     },
     "metadata": {},
     "output_type": "display_data"
    }
   ],
   "source": [
    "fig, ax = plt.subplots(figsize= (8,5))\n",
    "sns.histplot(df.capital_gain)\n",
    "fig, ax = plt.subplots(figsize= (8,5))\n",
    "sns.histplot(df.capital_loss)"
   ]
  },
  {
   "cell_type": "code",
   "execution_count": 25,
   "id": "2b395243-e7be-41ef-bcd1-8941c1230a39",
   "metadata": {},
   "outputs": [],
   "source": [
    "df = df[df['capital_gain'] < 80000 ].reset_index(drop = True)"
   ]
  },
  {
   "cell_type": "code",
   "execution_count": 26,
   "id": "54728819-b50d-4eca-af3f-a640d1aeb25e",
   "metadata": {},
   "outputs": [
    {
     "data": {
      "text/plain": [
       "(32402, 15)"
      ]
     },
     "execution_count": 26,
     "metadata": {},
     "output_type": "execute_result"
    }
   ],
   "source": [
    "df.shape"
   ]
  },
  {
   "cell_type": "code",
   "execution_count": 27,
   "id": "9c53afbf-c0ec-442a-acc0-2c4038d56f6c",
   "metadata": {},
   "outputs": [
    {
     "data": {
      "image/png": "[encoded data removed]",
      "text/plain": [
       "<Figure size 621.861x400 with 2 Axes>"
      ]
     },
     "metadata": {},
     "output_type": "display_data"
    }
   ],
   "source": [
    "a = sns.catplot(data= df,x = 'workclass',col= 'sex', hue='income', height=4, kind='count',aspect=.7)\n",
    "a.set_xticklabels(rotation = 90)\n",
    "plt.show()"
   ]
  },
  {
   "cell_type": "code",
   "execution_count": 28,
   "id": "6eb255fc-ccf9-4691-a04d-17c2d0aab113",
   "metadata": {},
   "outputs": [
    {
     "data": {
      "text/plain": [
       "<Axes: xlabel='age', ylabel='sex'>"
      ]
     },
     "execution_count": 28,
     "metadata": {},
     "output_type": "execute_result"
    },
    {
     "data": {
      "image/png": "[encoded data removed]",
      "text/plain": [
       "<Figure size 640x480 with 1 Axes>"
      ]
     },
     "metadata": {},
     "output_type": "display_data"
    }
   ],
   "source": [
    "sns.barplot(data=df, x ='age', y='sex',hue= 'income')"
   ]
  },
  {
   "cell_type": "code",
   "execution_count": 29,
   "id": "4ca608e0-a33d-45d2-9c31-da2042cda906",
   "metadata": {},
   "outputs": [],
   "source": [
    "X = df.drop(['income','native_country','marital_status','relationship','hours_per_week'], axis= 1) \n",
    "Y = df['income']"
   ]
  },
  {
   "cell_type": "code",
   "execution_count": 30,
   "id": "c974ea22-616b-4a0c-a82f-84626e108865",
   "metadata": {},
   "outputs": [
    {
     "data": {
      "text/plain": [
       "income\n",
       "0    24720\n",
       "1     7682\n",
       "Name: count, dtype: int64"
      ]
     },
     "execution_count": 30,
     "metadata": {},
     "output_type": "execute_result"
    }
   ],
   "source": [
    "df['income'].value_counts()"
   ]
  },
  {
   "cell_type": "code",
   "execution_count": 31,
   "id": "772ed45a-3a66-4d2e-86d6-6d6f8f9ac60b",
   "metadata": {},
   "outputs": [],
   "source": [
    "X_train,X_test,Y_train,Y_test = train_test_split(X,Y,test_size=0.2)"
   ]
  },
  {
   "cell_type": "code",
   "execution_count": 32,
   "id": "03a5daec-fc8f-4876-9687-d186a35780cc",
   "metadata": {},
   "outputs": [],
   "source": [
    "from sklearn.metrics import r2_score,mean_absolute_error\n",
    "from sklearn.pipeline import make_pipeline\n",
    "from sklearn.compose import make_column_transformer\n",
    "from sklearn.preprocessing import OneHotEncoder\n",
    "\n",
    "from sklearn.linear_model import LogisticRegression\n",
    "from sklearn.neighbors import KNeighborsClassifier\n",
    "from sklearn.svm import SVC\n",
    "from xgboost import XGBClassifier\n",
    "from sklearn.ensemble import RandomForestClassifier,GradientBoostingClassifier,AdaBoostClassifier\n",
    "from sklearn.tree import DecisionTreeClassifier"
   ]
  },
  {
   "cell_type": "code",
   "execution_count": 34,
   "id": "891b2431-204d-4f43-ba29-f6c4ca416786",
   "metadata": {},
   "outputs": [
    {
     "name": "stdout",
     "output_type": "stream",
     "text": [
      "The R2 score for LogisticRegression is  0.05414079926016835\n",
      "The MAE for LogisticRegression is  0.17142416293781823\n",
      "--------------------------------------------------\n",
      "The R2 score for KNeighborsClassifier is  -0.04035998497216409\n",
      "The MAE for KNeighborsClassifier is  0.1885511495139639\n",
      "--------------------------------------------------\n",
      "The R2 score for XGBClassifier is  0.048181290344615935\n",
      "The MAE for XGBClassifier is  0.17250424317234994\n",
      "--------------------------------------------------\n",
      "The R2 score for SVC is  0.05584351609318339\n",
      "The MAE for SVC is  0.17111556858509488\n",
      "--------------------------------------------------\n",
      "The R2 score for RandomForestClassifier is  0.1052223042506184\n",
      "The MAE for RandomForestClassifier is  0.16216633235611788\n",
      "--------------------------------------------------\n",
      "The R2 score for AdaBoostClassifier is  0.13076305674584332\n",
      "The MAE for AdaBoostClassifier is  0.1575374170652677\n",
      "--------------------------------------------------\n",
      "The R2 score for GradientBoostingClassifier is  0.14353343299345578\n",
      "The MAE for GradientBoostingClassifier is  0.15522295941984263\n",
      "--------------------------------------------------\n"
     ]
    }
   ],
   "source": [
    "def testing_the_models(X_train,X_test,Y_train,Y_test,model):\n",
    "    ohe = OneHotEncoder()\n",
    "    ohe.fit(X[['workclass','occupation','race','sex','new_education']])\n",
    "\n",
    "    columstrans = make_column_transformer(\n",
    "        (OneHotEncoder(categories=ohe.categories_),['workclass','occupation','race','sex','new_education']),\n",
    "        (StandardScaler(),['age','fnlwgt','education_num','capital_gain','capital_loss']),\n",
    "        remainder='passthrough'\n",
    "    )\n",
    "\n",
    "    pipe = make_pipeline(columstrans,model)\n",
    "    pipe.fit(X_train,Y_train)\n",
    "    ypred = pipe.predict(X_test)\n",
    "\n",
    "    print(f'The R2 score for {model.__class__.__name__} is ',r2_score(Y_test,ypred))\n",
    "    print(f'The MAE for {model.__class__.__name__} is ',mean_absolute_error(Y_test,ypred))\n",
    "\n",
    "models = [\n",
    "    LogisticRegression(solver='lbfgs',max_iter=1000),\n",
    "    KNeighborsClassifier(n_neighbors=5),\n",
    "    XGBClassifier(n_estimators =100, learning_rate=1),\n",
    "    SVC(kernel='rbf', gamma='auto'),\n",
    "    RandomForestClassifier(n_estimators=200, max_depth=10),\n",
    "    AdaBoostClassifier(n_estimators=100,learning_rate=.5),\n",
    "    GradientBoostingClassifier(n_estimators=100,learning_rate=.1),\n",
    "    ]\n",
    "\n",
    "for model in models:\n",
    "    testing_the_models(X_train,X_test,Y_train,Y_test,model)\n",
    "    print('-'* 50)"
   ]
  },
  {
   "cell_type": "code",
   "execution_count": null,
   "id": "a406d4fa-c04f-4f06-86b9-a10764391a01",
   "metadata": {},
   "outputs": [
    {
     "name": "stdout",
     "output_type": "stream",
     "text": [
      "the r2 score with pipeline: 0.027444281804524295\n",
      "the mae score with pipeline: 0.17940541096595\n",
      "the mae score with pipeline: 0.82059458903405\n",
      "--------------------------------------------------\n",
      "the r2 score with pipeline: -0.012149442961461254\n",
      "the mae score with pipeline: 0.186709186297706\n",
      "the mae score with pipeline: 0.8132908137022941\n",
      "--------------------------------------------------\n",
      "the r2 score with pipeline: 0.07149927133287437\n",
      "the mae score with pipeline: 0.17127867503343278\n",
      "the mae score with pipeline: 0.8287213249665673\n",
      "--------------------------------------------------\n",
      "the r2 score with pipeline: 0.03692446942454897\n",
      "the mae score with pipeline: 0.17765661968933238\n",
      "the mae score with pipeline: 0.8223433803106677\n",
      "--------------------------------------------------\n",
      "the r2 score with pipeline: 0.10551641514590415\n",
      "the mae score with pipeline: 0.16500360045262832\n",
      "the mae score with pipeline: 0.8349963995473717\n",
      "--------------------------------------------------\n"
     ]
    }
   ],
   "source": [
    "from sklearn.model_selection import train_test_split\n",
    "from sklearn.preprocessing import OneHotEncoder, StandardScaler\n",
    "from sklearn.compose import ColumnTransformer\n",
    "from sklearn.pipeline import Pipeline\n",
    "from sklearn.linear_model import LogisticRegression\n",
    "from sklearn.metrics import accuracy_score\n",
    "import pandas as pd\n",
    "\n",
    "\n",
    "# Split the data into training and test sets\n",
    "X_train, X_test, Y_train, Y_test = train_test_split(X, Y, test_size=0.3, random_state=0)\n",
    "\n",
    "def testing_the_models(X_train,X_test,Y_train,Y_test,model):\n",
    "    # Define categorical and numeric columns\n",
    "    categorical = ['workclass', 'new_education', 'occupation', 'race', 'sex']\n",
    "    numeric = ['age', 'fnlwgt', 'education_num', 'capital_gain', 'capital_loss']\n",
    "    \n",
    "    # Define the column transformer that applies OneHotEncoder to categorical and StandardScaler to numeric\n",
    "    col_transformer = ColumnTransformer(\n",
    "        transformers=[\n",
    "            ('cat', OneHotEncoder(handle_unknown='ignore'), categorical),\n",
    "            ('num', StandardScaler(), numeric)\n",
    "        ],\n",
    "        remainder='passthrough'  # Keep any other columns unchanged\n",
    "    )\n",
    "    \n",
    "    # Define the pipeline with the column transformer and the LogisticRegression model\n",
    "    pipe = Pipeline(steps=[\n",
    "        ('preprocessor', col_transformer),\n",
    "        ('classifier', model)\n",
    "    ])\n",
    "    \n",
    "    # Train the pipeline\n",
    "    pipe.fit(X_train, Y_train)\n",
    "    \n",
    "    # Make predictions\n",
    "    y_pred = pipe.predict(X_test)\n",
    "    print(f'the r2 score with pipeline: {r2_score(Y_test, y_pred)}')\n",
    "    print(f'the mae score with pipeline: {mean_absolute_error(Y_test, y_pred)}')\n",
    "    print(f'the mae score with pipeline: {accuracy_score(Y_test, y_pred)}')\n",
    "    \n",
    "models = [\n",
    "    LogisticRegression(solver='lbfgs',max_iter=1000),\n",
    "    KNeighborsClassifier(n_neighbors=5),\n",
    "    XGBClassifier(n_estimators =100, learning_rate=1),\n",
    "    SVC(kernel='rbf', gamma='auto'),\n",
    "    RandomForestClassifier(n_estimators=200, max_depth=10),\n",
    "    AdaBoostClassifier(n_estimators=100,learning_rate=.5),\n",
    "    GradientBoostingClassifier(n_estimators=100,learning_rate=.1),\n",
    "    ]\n",
    "# Evaluate the model\n",
    "for model in models:\n",
    "    testing_the_models(X_train,X_test,Y_train,Y_test,model)\n",
    "    print('-'* 50)\n",
    "\n"
   ]
  },
  {
   "cell_type": "code",
   "execution_count": null,
   "id": "18fa7911-20d6-48dc-be4e-ec17fb894cc7",
   "metadata": {},
   "outputs": [],
   "source": []
  }
 ],
 "metadata": {
  "kernelspec": {
   "display_name": "Python 3 (ipykernel)",
   "language": "python",
   "name": "python3"
  },
  "language_info": {
   "codemirror_mode": {
    "name": "ipython",
    "version": 3
   },
   "file_extension": ".py",
   "mimetype": "text/x-python",
   "name": "python",
   "nbconvert_exporter": "python",
   "pygments_lexer": "ipython3",
   "version": "3.12.1"
  }
 },
 "nbformat": 4,
 "nbformat_minor": 5
}
